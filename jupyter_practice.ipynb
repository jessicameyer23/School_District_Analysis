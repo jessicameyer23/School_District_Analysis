{
 "cells": [
  {
   "cell_type": "code",
   "execution_count": null,
   "id": "607aad8d",
   "metadata": {},
   "outputs": [],
   "source": [
    "# Incorporate the random library\n",
    "import random\n",
    "\n",
    "# Print Title\n",
    "print(\"Let's Play Rock Paper Scissors!\")\n",
    "\n",
    "# Specify the three options\n",
    "options = [\"r\", \"p\", \"s\"]\n",
    "\n",
    "# Computer Selection\n",
    "computer_choice = random.choice(options)\n",
    "\n",
    "# User Selection\n",
    "user_choice = input(\"Make your Choice: (r)ock, (p)aper, (s)cissors? \")\n",
    "\n",
    "# Run Conditionals"
   ]
  }
 ],
 "metadata": {
  "kernelspec": {
   "display_name": "PythonData",
   "language": "python",
   "name": "pythondata"
  },
  "language_info": {
   "codemirror_mode": {
    "name": "ipython",
    "version": 3
   },
   "file_extension": ".py",
   "mimetype": "text/x-python",
   "name": "python",
   "nbconvert_exporter": "python",
   "pygments_lexer": "ipython3",
   "version": "3.9.7"
  }
 },
 "nbformat": 4,
 "nbformat_minor": 5
}
